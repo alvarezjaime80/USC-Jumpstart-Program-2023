{
 "cells": [
  {
   "cell_type": "markdown",
   "id": "8e4b0591",
   "metadata": {},
   "source": [
    "# Importing libraries:"
   ]
  },
  {
   "cell_type": "code",
   "execution_count": 64,
   "id": "c3720b12",
   "metadata": {},
   "outputs": [],
   "source": [
    "import numpy as np\n",
    "from matplotlib import pyplot as plt\n",
    "import astropy.units as u\n",
    "from astropy.constants import G, h, k_B\n",
    "from astropy.visualization import quantity_support"
   ]
  },
  {
   "cell_type": "markdown",
   "id": "3c98573a",
   "metadata": {},
   "source": [
    "# Exercise 1:\n",
    "Use Quantity and Kepler's law in the form given below to determine the (circular) orbital speed of the Earth around the sun in km/s. No need to look up constants or conversion factors to do this calculation -- it's all in astropy.units and astropy.constants.\n",
    "\n",
    "$$v=\\sqrt{\\frac{GM}{r}}$$\n"
   ]
  },
  {
   "cell_type": "markdown",
   "id": "652b4ee4",
   "metadata": {},
   "source": [
    "## My code:\n",
    "Using Kepler's law I found the orbital speed of Earth using the constant G, 1 solar mass, and 1 astronomical unit."
   ]
  },
  {
   "cell_type": "code",
   "execution_count": 65,
   "id": "2b6c1371",
   "metadata": {},
   "outputs": [
    {
     "name": "stdout",
     "output_type": "stream",
     "text": [
      "29.784691829676934 km / s\n"
     ]
    }
   ],
   "source": [
    "v = np.sqrt((G*(1*u.Msun).to(u.kg))/(1*u.au).to(u.m))\n",
    "v = v.to(u.km/u.s)\n",
    "print(v)"
   ]
  },
  {
   "cell_type": "markdown",
   "id": "299ae646",
   "metadata": {},
   "source": [
    "There's a much easier way to figure out the velocity of the Earth using just two units or quantities. Do that and then compare to the Kepler's law answer (the easiest way is probably to compute the percentage difference, if any)."
   ]
  },
  {
   "cell_type": "markdown",
   "id": "f0f882ea",
   "metadata": {},
   "source": [
    "## My code:\n",
    " I found the orbital speed of Earth using the angular velocity of Earth in radians per year and the radius of Earths's orbit."
   ]
  },
  {
   "cell_type": "code",
   "execution_count": 66,
   "id": "6697eca1",
   "metadata": {},
   "outputs": [
    {
     "name": "stdout",
     "output_type": "stream",
     "text": [
      "29.785254365591534 km / s\n",
      "-0.000562535914600204 km / s\n"
     ]
    }
   ],
   "source": [
    "ang_v = (2*np.pi/u.year).to(1/u.s)\n",
    "rad_E = (1*u.au).to(u.km)\n",
    "v_new = ang_v * rad_E\n",
    "diff = (v - v_new)\n",
    "print(v_new)\n",
    "print(diff)"
   ]
  },
  {
   "cell_type": "markdown",
   "id": "5f095a9e",
   "metadata": {},
   "source": [
    "# Exercise 2: Molecular Cloud Mass"
   ]
  },
  {
   "cell_type": "code",
   "execution_count": 67,
   "id": "c6214a40",
   "metadata": {},
   "outputs": [],
   "source": [
    "# Cloud's center\n",
    "cen_ra = 52.25 * u.deg\n",
    "cen_dec = 0.25 * u.deg\n",
    "cen_v = 15 * u.km/u.s\n",
    "\n",
    "# Cloud's size\n",
    "sig_ra = 3 * u.arcmin\n",
    "sig_dec = 4 * u.arcmin\n",
    "sig_v = 3 * u.km/u.s\n",
    "\n",
    "#1D coordinate quantities\n",
    "ra = np.linspace(52, 52.5, 100) * u.deg\n",
    "dec = np.linspace(0, 0.5, 100) * u.deg\n",
    "v = np.linspace(0, 30, 300) *u.km/u.s\n",
    "\n",
    "#this creates data cubes of size for each coordinate based on the dimensions of the other coordinates\n",
    "ra_cube, dec_cube, v_cube = np.meshgrid(ra, dec, v)\n",
    "\n",
    "data_gauss = np.exp(-0.5*((ra_cube-cen_ra)/sig_ra)**2 + \n",
    "                    -0.5*((dec_cube-cen_dec)/sig_dec)**2 + \n",
    "                    -0.5*((v_cube-cen_v)/sig_v)**2 )\n",
    "data = data_gauss * u.K"
   ]
  },
  {
   "cell_type": "markdown",
   "id": "4e732a89",
   "metadata": {},
   "source": [
    "The astro material was pretty heavy on that one, so let's focus on some associated statistics using Quantity's array capabililities. Compute the median and mean of the data with the np.mean and np.median functions. Why are their values so different?"
   ]
  },
  {
   "cell_type": "markdown",
   "id": "babcb462",
   "metadata": {},
   "source": [
    "## My code:"
   ]
  },
  {
   "cell_type": "code",
   "execution_count": 68,
   "id": "e29961dd",
   "metadata": {},
   "outputs": [
    {
     "name": "stdout",
     "output_type": "stream",
     "text": [
      "0.02050985988965381 K\n",
      "2.8790654456437557e-05 K\n"
     ]
    }
   ],
   "source": [
    "print(np.mean(data))\n",
    "print(np.median(data))"
   ]
  },
  {
   "cell_type": "markdown",
   "id": "e920204f",
   "metadata": {},
   "source": [
    "Similarly, compute the standard deviation and variance (if you don't know the relevant functions, look it up in the numpy docs or just type np. and a code cell). Do they have the units you expect?"
   ]
  },
  {
   "cell_type": "markdown",
   "id": "d33d3e92",
   "metadata": {},
   "source": [
    "## My code:"
   ]
  },
  {
   "cell_type": "code",
   "execution_count": 69,
   "id": "f6458db0",
   "metadata": {},
   "outputs": [
    {
     "name": "stdout",
     "output_type": "stream",
     "text": [
      "0.08265458505925476 K\n",
      "0.006831780431317581 K2\n"
     ]
    }
   ],
   "source": [
    "print(np.std(data))\n",
    "print(np.var(data))"
   ]
  },
  {
   "cell_type": "markdown",
   "id": "3f9c0c31",
   "metadata": {},
   "source": [
    "# Exercise 3: Using Quantities with Functions\n",
    "Write a function that computes the Keplerian velocity you worked out in section 1 (using Quantity input and outputs, of course), but allowing for an arbitrary mass and orbital radius. Try it with some reasonable numbers for satellites orbiting the Earth, a moon of Jupiter, or an extrasolar planet. Feel free to use wikipedia or similar for the masses and distances."
   ]
  },
  {
   "cell_type": "markdown",
   "id": "d3ceb7a7",
   "metadata": {},
   "source": [
    "## My code:"
   ]
  },
  {
   "cell_type": "code",
   "execution_count": 70,
   "id": "618a4974",
   "metadata": {},
   "outputs": [
    {
     "name": "stdout",
     "output_type": "stream",
     "text": [
      "1.0188354733699032 km / s\n",
      "24.319099042917195 km / s\n"
     ]
    }
   ],
   "source": [
    "def kep_v(mass, radius):\n",
    "    \"\"\"function takes mass and orbital radius and returns the orbital velocity\n",
    "parameter: mass - astropy quantity, mass of the central body\n",
    "parameter: radius - astropy quantity, orbital radius of the satellite\n",
    "returns: astropy quantity, orbital velocity in km/s\"\"\"\n",
    "    v = np.sqrt((G*(mass))/radius).to(u.km/u.s)\n",
    "    return v\n",
    "\n",
    "#print orbital velocity of the moon\n",
    "print(kep_v((5.97219*10**24)*u.kg, (3.84*10**8)*u.m))\n",
    "\n",
    "#print orbital velocity of mars\n",
    "print(kep_v(1*u.Msun, 1.5*u.au))"
   ]
  }
 ],
 "metadata": {
  "kernelspec": {
   "display_name": "Python 3 (ipykernel)",
   "language": "python",
   "name": "python3"
  },
  "language_info": {
   "codemirror_mode": {
    "name": "ipython",
    "version": 3
   },
   "file_extension": ".py",
   "mimetype": "text/x-python",
   "name": "python",
   "nbconvert_exporter": "python",
   "pygments_lexer": "ipython3",
   "version": "3.10.9"
  }
 },
 "nbformat": 4,
 "nbformat_minor": 5
}
